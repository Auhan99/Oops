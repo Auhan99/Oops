{
 "cells": [
  {
   "cell_type": "code",
   "execution_count": 38,
   "metadata": {},
   "outputs": [],
   "source": [
    "class emp:\n",
    "    def __init__(self, first,last, pay):\n",
    "        self.first=first\n",
    "        self.email=first+\"\"\n",
    "    def aba():\n",
    "        return \"not working\"\n",
    "    def aa(self):\n",
    "        return \" working\"\n",
    "    def __str__(self):\n",
    "        return self.first"
   ]
  },
  {
   "cell_type": "code",
   "execution_count": 39,
   "metadata": {},
   "outputs": [],
   "source": [
    "emp1=emp(\"se0\",\"Se\",393)"
   ]
  },
  {
   "cell_type": "code",
   "execution_count": 40,
   "metadata": {},
   "outputs": [],
   "source": [
    "emp1.last=\"se\""
   ]
  },
  {
   "cell_type": "code",
   "execution_count": 41,
   "metadata": {},
   "outputs": [
    {
     "data": {
      "text/plain": [
       "'se'"
      ]
     },
     "execution_count": 41,
     "metadata": {},
     "output_type": "execute_result"
    }
   ],
   "source": [
    "emp1.last"
   ]
  },
  {
   "cell_type": "code",
   "execution_count": 42,
   "metadata": {},
   "outputs": [
    {
     "ename": "TypeError",
     "evalue": "aba() takes 0 positional arguments but 1 was given",
     "output_type": "error",
     "traceback": [
      "\u001b[0;31m---------------------------------------------------------------------------\u001b[0m",
      "\u001b[0;31mTypeError\u001b[0m                                 Traceback (most recent call last)",
      "\u001b[0;32m<ipython-input-42-74a9f081879c>\u001b[0m in \u001b[0;36m<module>\u001b[0;34m()\u001b[0m\n\u001b[0;32m----> 1\u001b[0;31m \u001b[0mprint\u001b[0m\u001b[0;34m(\u001b[0m\u001b[0memp1\u001b[0m\u001b[0;34m.\u001b[0m\u001b[0maba\u001b[0m\u001b[0;34m(\u001b[0m\u001b[0;34m)\u001b[0m\u001b[0;34m)\u001b[0m \u001b[0;31m#self id automatically passed\u001b[0m\u001b[0;34m\u001b[0m\u001b[0m\n\u001b[0m",
      "\u001b[0;31mTypeError\u001b[0m: aba() takes 0 positional arguments but 1 was given"
     ]
    }
   ],
   "source": [
    "print(emp1.aba()) #self id automatically passed"
   ]
  },
  {
   "cell_type": "code",
   "execution_count": 43,
   "metadata": {},
   "outputs": [
    {
     "name": "stdout",
     "output_type": "stream",
     "text": [
      " working\n"
     ]
    }
   ],
   "source": [
    "print(emp1.aa())"
   ]
  },
  {
   "cell_type": "code",
   "execution_count": 44,
   "metadata": {},
   "outputs": [
    {
     "name": "stdout",
     "output_type": "stream",
     "text": [
      "se0 se\n"
     ]
    }
   ],
   "source": [
    "#to print full name\n",
    "print (emp1.first +\" \" +emp1.last)\n",
    "\n",
    "#or we can add a new mw=ethod so that it will work for all emps"
   ]
  },
  {
   "cell_type": "code",
   "execution_count": 52,
   "metadata": {},
   "outputs": [],
   "source": [
    "class emp:\n",
    "    def __init__(self, first,last, pay):\n",
    "        self.first=first\n",
    "        self.last=last\n",
    "        self.email=first+\"\"\n",
    "    def aba():\n",
    "        return \"not working\"\n",
    "    def aa(self):\n",
    "        return \" working\"\n",
    "    def __str__(self):\n",
    "        return self.first\n",
    "    def fullname(self):\n",
    "        return (self.first +\" \" +self.last) #using self instead of emp1.first +emp1.last so \n",
    "                                                #it will work for all objects"
   ]
  },
  {
   "cell_type": "code",
   "execution_count": 58,
   "metadata": {},
   "outputs": [
    {
     "name": "stdout",
     "output_type": "stream",
     "text": [
      "se0 Se\n",
      "se0 Se\n"
     ]
    }
   ],
   "source": [
    "emp1=emp(\"se0\",\"Se\",393)\n",
    "print(emp1.fullname())  #emp1 is passed automaticaly \n",
    "#or we can call directly from class by passing emp1 \n",
    "print(emp.fullname(emp1))"
   ]
  },
  {
   "cell_type": "code",
   "execution_count": 60,
   "metadata": {},
   "outputs": [],
   "source": [
    "###Class Variables and INstalce variables ####\n",
    "#class variables same for all instances instance variable unique for instances\n"
   ]
  },
  {
   "cell_type": "code",
   "execution_count": 82,
   "metadata": {},
   "outputs": [],
   "source": [
    "class emp:\n",
    "    raise_amt=1.04\n",
    "    def __init__(self, first,last, pay):\n",
    "        self.first=first\n",
    "        self.pay=pay\n",
    "        self.last=last\n",
    "        self.email=first+\"\"\n",
    "    def aba():\n",
    "        return \"not working\"\n",
    "    def aa(self):\n",
    "        return \" working\"\n",
    "    def apply_raise(self):\n",
    "#         self.pay=self.pay*raise_amt  #will not work \n",
    "        self.pay=self.pay*self.raise_amt\n",
    "#         self.pay=self.pay*emp.raise_amt# will work too\n",
    "    def fullname(self):\n",
    "        return (self.first +\" \" +self.last) #using self instead of emp1.first +emp1.last so \n",
    "    def __str__(self):\n",
    "        return self.first"
   ]
  },
  {
   "cell_type": "code",
   "execution_count": 86,
   "metadata": {},
   "outputs": [
    {
     "name": "stdout",
     "output_type": "stream",
     "text": [
      "1000\n",
      "1000\n"
     ]
    }
   ],
   "source": [
    "emp1=emp(\"se0\",\"Se\",1000)\n",
    "emp2=emp(\"Ad00\",\"sd\",2000)\n",
    "print(emp1.pay)\n",
    "# emp1.apply_raise()\n",
    "# emp1 is passed automaticaly \n",
    "#or we can call directly from class by passing emp1 \n",
    "print(emp1.pay)"
   ]
  },
  {
   "cell_type": "code",
   "execution_count": 96,
   "metadata": {},
   "outputs": [],
   "source": [
    "emp1=emp(\"se0\",\"Se\",1000)\n",
    "emp2=emp(\"Ad00\",\"sd\",2000)\n",
    "emp.raise_amt=1.05   ##by just changing class variable value , \n",
    "                        ##the value for all instances is changed \n"
   ]
  },
  {
   "cell_type": "code",
   "execution_count": 97,
   "metadata": {},
   "outputs": [
    {
     "name": "stdout",
     "output_type": "stream",
     "text": [
      "1000\n",
      "1050.0\n",
      "1.05\n"
     ]
    }
   ],
   "source": [
    "print(emp1.pay)\n",
    "emp1.apply_raise()\n",
    "#emp1 is passed automaticaly \n",
    "#or we can call directly from class by passing emp1 \n",
    "print(emp1.pay)\n",
    "print(emp2.raise_amt)\n"
   ]
  },
  {
   "cell_type": "code",
   "execution_count": 106,
   "metadata": {},
   "outputs": [
    {
     "name": "stdout",
     "output_type": "stream",
     "text": [
      "{'first': 'se0', 'pay': 1050.0, 'last': 'Se', 'email': 'se0', 'raise_amt': 1.06}\n",
      "{'first': 'Ad00', 'pay': 2000, 'last': 'sd', 'email': 'Ad00'}\n"
     ]
    }
   ],
   "source": [
    "emp1.raise_amt=1.06  #this created raise_amt in emp1s namespace so if it finds \n",
    "                    #the value in his namespace so instead of going and searching \n",
    "                    #for other class it will print it locally\n",
    "print(emp1.__dict__)\n",
    "print(emp2.__dict__)"
   ]
  },
  {
   "cell_type": "code",
   "execution_count": 100,
   "metadata": {},
   "outputs": [
    {
     "name": "stdout",
     "output_type": "stream",
     "text": [
      "1.06\n",
      "1.05\n",
      "1.05\n"
     ]
    }
   ],
   "source": [
    "print(emp1.raise_amt) \n",
    "print(emp2.raise_amt)\n",
    "print(emp.raise_amt)\n"
   ]
  },
  {
   "cell_type": "code",
   "execution_count": 101,
   "metadata": {},
   "outputs": [
    {
     "name": "stdout",
     "output_type": "stream",
     "text": [
      "{'first': 'Ad00', 'pay': 2000, 'last': 'sd', 'email': 'Ad00'}\n"
     ]
    }
   ],
   "source": [
    "print(emp2.__dict__)"
   ]
  },
  {
   "cell_type": "code",
   "execution_count": 102,
   "metadata": {},
   "outputs": [
    {
     "name": "stdout",
     "output_type": "stream",
     "text": [
      "{'first': 'se0', 'pay': 1050.0, 'last': 'Se', 'email': 'se0', 'raise_amt': 1.06}\n"
     ]
    }
   ],
   "source": [
    "print(emp1.__dict__)"
   ]
  },
  {
   "cell_type": "code",
   "execution_count": 107,
   "metadata": {},
   "outputs": [],
   "source": [
    "#Class methods and static methods \n",
    "#as there are class variables and instance variable there are also class method and static methods"
   ]
  },
  {
   "cell_type": "code",
   "execution_count": null,
   "metadata": {},
   "outputs": [],
   "source": [
    "#regular method in a class automatically takes self as its argument\n",
    "#class method automatically takes class as first argument \n",
    "#static has no default argument"
   ]
  },
  {
   "cell_type": "code",
   "execution_count": 119,
   "metadata": {},
   "outputs": [],
   "source": [
    "class emp:\n",
    "    raise_amt=1.04\n",
    "    def __init__(self, first,last, pay):\n",
    "        self.first=first\n",
    "        self.pay=pay\n",
    "        self.last=last\n",
    "        self.email=first+\"\"\n",
    "    def aba():\n",
    "        return \"not working\"\n",
    "    def aa(self):\n",
    "        return \" working\"\n",
    "    def apply_raise(self):\n",
    "#         self.pay=self.pay*raise_amt  #will not work \n",
    "        self.pay=self.pay*self.raise_amt\n",
    "#         self.pay=self.pay*emp.raise_amt# will work too\n",
    "    @classmethod\n",
    "    def set_raise_amt(cls , amount) :##we can use anything in place of cls and self but\n",
    "#                                     but cls is conventionally used as so do \"self\" \n",
    "       cls.raise_amt=amount\n",
    "    @classmethod\n",
    "    def instance_from_string(cls,str):\n",
    "        first,last,pay=str.split('_')\n",
    "        return cls(first,last,pay)\n",
    "    \n",
    "    def fullname(self):\n",
    "        return (self.first +\" \" +self.last) #using self instead of emp1.first +emp1.last so \n",
    "    \n",
    "\n",
    "    def __str__(self):\n",
    "        return self.first"
   ]
  },
  {
   "cell_type": "code",
   "execution_count": 120,
   "metadata": {},
   "outputs": [],
   "source": [
    "emp1=emp(\"se0\",\"Se\",1000)\n",
    "emp2=emp(\"Ad00\",\"sd\",2000)"
   ]
  },
  {
   "cell_type": "code",
   "execution_count": 121,
   "metadata": {},
   "outputs": [],
   "source": [
    "emp.set_raise_amt(1.03)"
   ]
  },
  {
   "cell_type": "code",
   "execution_count": 122,
   "metadata": {},
   "outputs": [
    {
     "name": "stdout",
     "output_type": "stream",
     "text": [
      "1.03\n",
      "1.03\n",
      "1.03\n"
     ]
    }
   ],
   "source": [
    "print(emp1.raise_amt) \n",
    "print(emp2.raise_amt)\n",
    "print(emp.raise_amt)\n"
   ]
  },
  {
   "cell_type": "code",
   "execution_count": 124,
   "metadata": {},
   "outputs": [],
   "source": [
    "emp3=emp.instance_from_string(\"asd_cxz_5000\")"
   ]
  },
  {
   "cell_type": "code",
   "execution_count": 125,
   "metadata": {},
   "outputs": [
    {
     "data": {
      "text/plain": [
       "'5000'"
      ]
     },
     "execution_count": 125,
     "metadata": {},
     "output_type": "execute_result"
    }
   ],
   "source": [
    "emp3.pay"
   ]
  },
  {
   "cell_type": "code",
   "execution_count": 142,
   "metadata": {},
   "outputs": [],
   "source": [
    "class Developer(emp):\n",
    "    def __init__(self,first,last,pay,prog_lang):\n",
    "        super().__init__(first,last,pay)\n",
    "#         emp.__init__(self,first,last,pay) ##this also can be used \n",
    "        self.prog_lang=prog_lang"
   ]
  },
  {
   "cell_type": "code",
   "execution_count": 143,
   "metadata": {
    "scrolled": false
   },
   "outputs": [
    {
     "name": "stdout",
     "output_type": "stream",
     "text": [
      "Help on class Developer in module __main__:\n",
      "\n",
      "class Developer(emp)\n",
      " |  Method resolution order:\n",
      " |      Developer\n",
      " |      emp\n",
      " |      builtins.object\n",
      " |  \n",
      " |  Methods defined here:\n",
      " |  \n",
      " |  __init__(self, first, last, pay, prog_lang)\n",
      " |      Initialize self.  See help(type(self)) for accurate signature.\n",
      " |  \n",
      " |  ----------------------------------------------------------------------\n",
      " |  Methods inherited from emp:\n",
      " |  \n",
      " |  __str__(self)\n",
      " |      Return str(self).\n",
      " |  \n",
      " |  aa(self)\n",
      " |  \n",
      " |  aba()\n",
      " |  \n",
      " |  apply_raise(self)\n",
      " |  \n",
      " |  fullname(self)\n",
      " |  \n",
      " |  ----------------------------------------------------------------------\n",
      " |  Class methods inherited from emp:\n",
      " |  \n",
      " |  instance_from_string(str) from builtins.type\n",
      " |  \n",
      " |  set_raise_amt(amount) from builtins.type\n",
      " |  \n",
      " |  ----------------------------------------------------------------------\n",
      " |  Data descriptors inherited from emp:\n",
      " |  \n",
      " |  __dict__\n",
      " |      dictionary for instance variables (if defined)\n",
      " |  \n",
      " |  __weakref__\n",
      " |      list of weak references to the object (if defined)\n",
      " |  \n",
      " |  ----------------------------------------------------------------------\n",
      " |  Data and other attributes inherited from emp:\n",
      " |  \n",
      " |  raise_amt = 1.03\n",
      "\n",
      "None\n"
     ]
    }
   ],
   "source": [
    "print(help(Developer))"
   ]
  },
  {
   "cell_type": "code",
   "execution_count": 144,
   "metadata": {},
   "outputs": [],
   "source": [
    "dev1=Developer(\"se0\",\"Se\",\"1000\",\"Phy\")"
   ]
  },
  {
   "cell_type": "code",
   "execution_count": 145,
   "metadata": {},
   "outputs": [],
   "source": [
    "##  isinstance(a,b)   ##if object a is an instance of a class b"
   ]
  },
  {
   "cell_type": "code",
   "execution_count": 148,
   "metadata": {},
   "outputs": [
    {
     "data": {
      "text/plain": [
       "True"
      ]
     },
     "execution_count": 148,
     "metadata": {},
     "output_type": "execute_result"
    }
   ],
   "source": [
    "isinstance(dev1,Developer)\n",
    "# isinstance(emp1,Developer)"
   ]
  },
  {
   "cell_type": "code",
   "execution_count": 149,
   "metadata": {},
   "outputs": [],
   "source": [
    "#issubclass(a,b)   #if class a is subclass of class b"
   ]
  },
  {
   "cell_type": "code",
   "execution_count": 150,
   "metadata": {},
   "outputs": [
    {
     "data": {
      "text/plain": [
       "True"
      ]
     },
     "execution_count": 150,
     "metadata": {},
     "output_type": "execute_result"
    }
   ],
   "source": [
    "issubclass(Developer, emp)"
   ]
  },
  {
   "cell_type": "code",
   "execution_count": 152,
   "metadata": {},
   "outputs": [
    {
     "name": "stdout",
     "output_type": "stream",
     "text": [
      "3\n",
      "12\n"
     ]
    }
   ],
   "source": [
    "###Magic methods and dunders\n",
    "print(1+2)\n",
    "print(\"1\"+\"2\")"
   ]
  },
  {
   "cell_type": "code",
   "execution_count": 153,
   "metadata": {},
   "outputs": [],
   "source": [
    "#special methods are surrounded by __ called dunders so __init__ is called dunder init"
   ]
  },
  {
   "cell_type": "code",
   "execution_count": null,
   "metadata": {},
   "outputs": [],
   "source": [
    "#repr is more unambigious representation of an  object while str is conventionally more readable representation of an object \n"
   ]
  },
  {
   "cell_type": "code",
   "execution_count": 178,
   "metadata": {},
   "outputs": [],
   "source": [
    "class emp:\n",
    "    raise_amt=1.04\n",
    "    def __init__(self, first,last, pay):\n",
    "        self.first=first\n",
    "        self.pay=pay\n",
    "        self.last=last\n",
    "        self.email=first+\"\"\n",
    "    def aba():\n",
    "        return \"not working\"\n",
    "    def aa(self):\n",
    "        return \" working\"\n",
    "    def apply_raise(self):\n",
    "#         self.pay=self.pay*raise_amt  #will not work \n",
    "        self.pay=self.pay*self.raise_amt\n",
    "#         self.pay=self.pay*emp.raise_amt# will work too\n",
    "    @classmethod\n",
    "    def set_raise_amt(cls , amount) :##we can use anything in place of cls and self but\n",
    "#                                     but cls is conventionally used as so do \"self\" \n",
    "       cls.raise_amt=amount\n",
    "    @classmethod\n",
    "    def instance_from_string(cls,str):\n",
    "        first,last,pay=str.split('_')\n",
    "        return cls(first,last,pay)\n",
    "    \n",
    "    def fullname(self):\n",
    "        return (self.first +\" \" +self.last) #using self instead of emp1.first +emp1.last so \n",
    "    \n",
    "\n",
    "    def __str__(self):\n",
    "        return self.first\n",
    "    def __repr__(self):\n",
    "        return \"emp() class \"\n",
    "    def __add__(self,other):\n",
    "        return self.first+other.first\n",
    "    def __len__(self):\n",
    "        return len(self.first)"
   ]
  },
  {
   "cell_type": "code",
   "execution_count": 179,
   "metadata": {},
   "outputs": [],
   "source": [
    "emp1=emp(\"se0\",\"Se\",1000)\n",
    "emp2=emp(\"aaasas\",\"Se\",1000)"
   ]
  },
  {
   "cell_type": "code",
   "execution_count": 180,
   "metadata": {},
   "outputs": [
    {
     "data": {
      "text/plain": [
       "'se0aaasas'"
      ]
     },
     "execution_count": 180,
     "metadata": {},
     "output_type": "execute_result"
    }
   ],
   "source": [
    "emp1+emp2"
   ]
  },
  {
   "cell_type": "code",
   "execution_count": 182,
   "metadata": {},
   "outputs": [
    {
     "name": "stdout",
     "output_type": "stream",
     "text": [
      "se0\n",
      "se0\n",
      "emp() class \n",
      "3\n"
     ]
    },
    {
     "data": {
      "text/plain": [
       "emp() class "
      ]
     },
     "execution_count": 182,
     "metadata": {},
     "output_type": "execute_result"
    }
   ],
   "source": [
    "print(emp1)\n",
    "print(emp1.__str__())\n",
    "print(emp1.__repr__())\n",
    "print(len(emp1))\n",
    "emp1"
   ]
  },
  {
   "cell_type": "code",
   "execution_count": 183,
   "metadata": {},
   "outputs": [],
   "source": [
    "# Property decorators"
   ]
  },
  {
   "cell_type": "code",
   "execution_count": 195,
   "metadata": {},
   "outputs": [],
   "source": [
    "class emp:\n",
    "    raise_amt=1.04\n",
    "    def __init__(self, first,last, pay):\n",
    "        self.first=first\n",
    "        self.pay=pay\n",
    "        self.last=last\n",
    "        self.email=self.first+\".\"+self.last+\"@gmail.som\"\n",
    "    def full_name(self):\n",
    "        return \"{} {}\".format(self.first,self.last)"
   ]
  },
  {
   "cell_type": "code",
   "execution_count": 196,
   "metadata": {},
   "outputs": [],
   "source": [
    "emp2=emp(\"aaasas\",\"Se\",1000)"
   ]
  },
  {
   "cell_type": "code",
   "execution_count": 197,
   "metadata": {},
   "outputs": [
    {
     "name": "stdout",
     "output_type": "stream",
     "text": [
      "auhan\n",
      "aaasas.Se@gmail.som\n",
      "auhan Se\n"
     ]
    }
   ],
   "source": [
    "emp2.first=\"auhan\"\n",
    "print(emp2.first)\n",
    "print(emp2.email)#here email did not updated so \n",
    "print(emp2.full_name()) ##it is updated "
   ]
  },
  {
   "cell_type": "code",
   "execution_count": null,
   "metadata": {},
   "outputs": [],
   "source": [
    "# so one thing can be done for email is making a mehthod like full name for email \n",
    "#but this will  break the code that people are using so we want to access email \n",
    "#but as an attribute (without parenthasis ) so we will add decorator @property to it \n"
   ]
  },
  {
   "cell_type": "code",
   "execution_count": 200,
   "metadata": {},
   "outputs": [],
   "source": [
    "class emp:\n",
    "    raise_amt=1.04\n",
    "    def __init__(self, first,last, pay):\n",
    "        self.first=first\n",
    "        self.pay=pay\n",
    "        self.last=last\n",
    "#         self.email=self.first+\".\"+self.last+\"@gmail.som\"\n",
    "    @property\n",
    "    def email(self):\n",
    "        return self.first+\".\"+self.last+\"@gmail.som\"\n",
    "    def full_name(self):\n",
    "        return \"{} {}\".format(self.first,self.last)"
   ]
  },
  {
   "cell_type": "code",
   "execution_count": 202,
   "metadata": {},
   "outputs": [
    {
     "name": "stdout",
     "output_type": "stream",
     "text": [
      "auhan\n",
      "auhan.Se@gmail.som\n",
      "auhan Se\n"
     ]
    }
   ],
   "source": [
    "emp2=emp(\"aaasas\",\"Se\",1000)\n",
    "emp2.first=\"auhan\"\n",
    "print(emp2.first)\n",
    "print(emp2.email)\n",
    "print(emp2.full_name())"
   ]
  },
  {
   "cell_type": "code",
   "execution_count": 204,
   "metadata": {},
   "outputs": [
    {
     "ename": "AttributeError",
     "evalue": "can't set attribute",
     "output_type": "error",
     "traceback": [
      "\u001b[0;31m---------------------------------------------------------------------------\u001b[0m",
      "\u001b[0;31mAttributeError\u001b[0m                            Traceback (most recent call last)",
      "\u001b[0;32m<ipython-input-204-831fe4a8854f>\u001b[0m in \u001b[0;36m<module>\u001b[0;34m()\u001b[0m\n\u001b[1;32m      1\u001b[0m \u001b[0;31m##setters\u001b[0m\u001b[0;34m\u001b[0m\u001b[0;34m\u001b[0m\u001b[0m\n\u001b[0;32m----> 2\u001b[0;31m \u001b[0memp2\u001b[0m\u001b[0;34m.\u001b[0m\u001b[0memail\u001b[0m\u001b[0;34m=\u001b[0m\u001b[0;34m\"sdfsdf\"\u001b[0m  \u001b[0;31m#will be an error that can not set attribute\u001b[0m\u001b[0;34m\u001b[0m\u001b[0m\n\u001b[0m",
      "\u001b[0;31mAttributeError\u001b[0m: can't set attribute"
     ]
    }
   ],
   "source": [
    "##setters\n",
    "emp2.email=\"sdfsdf\"  #will be an error that can not set attribute so we need to use a setter "
   ]
  },
  {
   "cell_type": "code",
   "execution_count": 1,
   "metadata": {},
   "outputs": [],
   "source": [
    "class emp:\n",
    "    raise_amt=1.04\n",
    "    def __init__(self, first,last, pay):\n",
    "        self.first=first\n",
    "        self.pay=pay\n",
    "        self.last=last\n",
    "#         self.email=self.first+\".\"+self.last+\"@gmail.som\"\n",
    "    @property\n",
    "    def email(self):\n",
    "        return self.first+\".\"+self.last+\"@gmail.som\"\n",
    "    @email.setter\n",
    "    def email(self):\n",
    "        return self.first+\".\"+self.last+\"@gmail.som\"\n",
    "    @property\n",
    "    def fullname(self):\n",
    "        return \"{} {}\".format(self.first,self.last)\n",
    "    @fullname.setter \n",
    "    def fullname(self,name):\n",
    "#         print(name)\n",
    "        first , last= name.split(' ')\n",
    "        self.first=first\n",
    "        self.last=last\n",
    "    @fullname.deleter\n",
    "    def fullname(self):\n",
    "#         first , last= name.split('')\n",
    "        self.first=None\n",
    "        self.last=None\n",
    "          "
   ]
  },
  {
   "cell_type": "code",
   "execution_count": 2,
   "metadata": {},
   "outputs": [
    {
     "data": {
      "text/plain": [
       "'ayushman'"
      ]
     },
     "execution_count": 2,
     "metadata": {},
     "output_type": "execute_result"
    }
   ],
   "source": [
    "emp2=emp(\"aaasas\",\"Se\",1000)\n",
    "emp2.fullname='ayushman sin'\n",
    "emp2.first"
   ]
  },
  {
   "cell_type": "code",
   "execution_count": 3,
   "metadata": {},
   "outputs": [
    {
     "name": "stdout",
     "output_type": "stream",
     "text": [
      "None\n"
     ]
    }
   ],
   "source": [
    "del emp2.fullname\n",
    "print(emp2.first)"
   ]
  },
  {
   "cell_type": "code",
   "execution_count": null,
   "metadata": {},
   "outputs": [],
   "source": []
  }
 ],
 "metadata": {
  "kernelspec": {
   "display_name": "Python 3",
   "language": "python",
   "name": "python3"
  },
  "language_info": {
   "codemirror_mode": {
    "name": "ipython",
    "version": 3
   },
   "file_extension": ".py",
   "mimetype": "text/x-python",
   "name": "python",
   "nbconvert_exporter": "python",
   "pygments_lexer": "ipython3",
   "version": "3.6.6"
  }
 },
 "nbformat": 4,
 "nbformat_minor": 2
}
